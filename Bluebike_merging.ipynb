{
  "nbformat": 4,
  "nbformat_minor": 0,
  "metadata": {
    "colab": {
      "name": "Bluebike merging",
      "provenance": [],
      "collapsed_sections": [],
      "authorship_tag": "ABX9TyNZUdtqGfUt4KjOa8YvqQEn",
      "include_colab_link": true
    },
    "kernelspec": {
      "name": "python3",
      "display_name": "Python 3"
    }
  },
  "cells": [
    {
      "cell_type": "markdown",
      "metadata": {
        "id": "view-in-github",
        "colab_type": "text"
      },
      "source": [
        "<a href=\"https://colab.research.google.com/github/zckristy/BA780/blob/main/Bluebike_merging.ipynb\" target=\"_parent\"><img src=\"https://colab.research.google.com/assets/colab-badge.svg\" alt=\"Open In Colab\"/></a>"
      ]
    },
    {
      "cell_type": "code",
      "metadata": {
        "id": "46cpxLWGOj4p",
        "outputId": "4e4168e8-4f0e-40a3-f2d7-ccd08c7266c6",
        "colab": {
          "base_uri": "https://localhost:8080/"
        }
      },
      "source": [
        "!wget url_to_the_zip_file"
      ],
      "execution_count": null,
      "outputs": [
        {
          "output_type": "stream",
          "text": [
            "--2020-11-17 04:12:50--  http://url_to_the_zip_file/\n",
            "Resolving url_to_the_zip_file (url_to_the_zip_file)... failed: Name or service not known.\n",
            "wget: unable to resolve host address ‘url_to_the_zip_file’\n"
          ],
          "name": "stdout"
        }
      ]
    },
    {
      "cell_type": "code",
      "metadata": {
        "id": "-9eIdtIoO0sJ",
        "outputId": "5d5b4406-007b-45b5-d96d-b41559ee2394",
        "colab": {
          "base_uri": "https://localhost:8080/"
        }
      },
      "source": [
        "!unzip /content/201906-bluebikes-tripdata.zip"
      ],
      "execution_count": null,
      "outputs": [
        {
          "output_type": "stream",
          "text": [
            "Archive:  /content/201906-bluebikes-tripdata.zip\n",
            "replace 201907-bluebikes.tripdata.csv? [y]es, [n]o, [A]ll, [N]one, [r]ename: "
          ],
          "name": "stdout"
        }
      ]
    },
    {
      "cell_type": "code",
      "metadata": {
        "id": "XUjqmvfgR0Ev"
      },
      "source": [
        "import pandas as pd"
      ],
      "execution_count": null,
      "outputs": []
    },
    {
      "cell_type": "code",
      "metadata": {
        "id": "nu88lDNFR6KA"
      },
      "source": [
        "bb1 = pd.read_csv('/content/201901-bluebikes-tripdata.csv')\n",
        "bb2 = pd.read_csv('/content/201902-bluebikes-tripdata.csv')\n",
        "bb3 = pd.read_csv('/content/201903-bluebikes-tripdata.csv')\n",
        "bb4 = pd.read_csv('/content/201904-bluebikes-tripdata.csv')\n",
        "bb5 = pd.read_csv('/content/201905-bluebikes-tripdata.csv')\n",
        "bb6 = pd.read_csv('/content/06')\n",
        "bb7 = pd.read_csv('/content/201907-bluebikes-tripdata')\n",
        "bb8 = pd.read_csv('/content/201908-bluebikes-tripdata')\n",
        "bb9 = pd.read_csv('/content/201909-bluebikes-tripdata.csv')\n",
        "bb10 = pd.read_csv('/content/201910-bluebikes-tripdata.csv')\n",
        "bb11 = pd.read_csv('/content/201911-bluebikes-tripdata.csv')\n",
        "bb12 = pd.read_csv('/content/201912-bluebikes-tripdata.csv')"
      ],
      "execution_count": null,
      "outputs": []
    },
    {
      "cell_type": "code",
      "metadata": {
        "id": "nZxtcihQT3Uc",
        "outputId": "57566abb-3ab7-4eee-eb3b-078ebd12f93c",
        "colab": {
          "base_uri": "https://localhost:8080/",
          "height": 443
        }
      },
      "source": [
        "bb6.head()"
      ],
      "execution_count": null,
      "outputs": [
        {
          "output_type": "execute_result",
          "data": {
            "text/html": [
              "<div>\n",
              "<style scoped>\n",
              "    .dataframe tbody tr th:only-of-type {\n",
              "        vertical-align: middle;\n",
              "    }\n",
              "\n",
              "    .dataframe tbody tr th {\n",
              "        vertical-align: top;\n",
              "    }\n",
              "\n",
              "    .dataframe thead th {\n",
              "        text-align: right;\n",
              "    }\n",
              "</style>\n",
              "<table border=\"1\" class=\"dataframe\">\n",
              "  <thead>\n",
              "    <tr style=\"text-align: right;\">\n",
              "      <th></th>\n",
              "      <th>tripduration</th>\n",
              "      <th>starttime</th>\n",
              "      <th>stoptime</th>\n",
              "      <th>start station id</th>\n",
              "      <th>start station name</th>\n",
              "      <th>start station latitude</th>\n",
              "      <th>start station longitude</th>\n",
              "      <th>end station id</th>\n",
              "      <th>end station name</th>\n",
              "      <th>end station latitude</th>\n",
              "      <th>end station longitude</th>\n",
              "      <th>bikeid</th>\n",
              "      <th>usertype</th>\n",
              "      <th>birth year</th>\n",
              "      <th>gender</th>\n",
              "    </tr>\n",
              "  </thead>\n",
              "  <tbody>\n",
              "    <tr>\n",
              "      <th>0</th>\n",
              "      <td>241</td>\n",
              "      <td>2019-06-01 00:00:20.0010</td>\n",
              "      <td>2019-06-01 00:04:21.1670</td>\n",
              "      <td>81</td>\n",
              "      <td>Chinatown T Stop</td>\n",
              "      <td>42.352409</td>\n",
              "      <td>-71.062679</td>\n",
              "      <td>48</td>\n",
              "      <td>Post Office Square</td>\n",
              "      <td>42.355854</td>\n",
              "      <td>-71.054597</td>\n",
              "      <td>2861</td>\n",
              "      <td>Subscriber</td>\n",
              "      <td>1988</td>\n",
              "      <td>1</td>\n",
              "    </tr>\n",
              "    <tr>\n",
              "      <th>1</th>\n",
              "      <td>758</td>\n",
              "      <td>2019-06-01 00:00:28.6980</td>\n",
              "      <td>2019-06-01 00:13:06.7530</td>\n",
              "      <td>70</td>\n",
              "      <td>Harvard Kennedy School at Bennett St / Eliot St</td>\n",
              "      <td>42.372217</td>\n",
              "      <td>-71.121881</td>\n",
              "      <td>333</td>\n",
              "      <td>699 Mt Auburn St</td>\n",
              "      <td>42.375002</td>\n",
              "      <td>-71.148716</td>\n",
              "      <td>378</td>\n",
              "      <td>Subscriber</td>\n",
              "      <td>1956</td>\n",
              "      <td>1</td>\n",
              "    </tr>\n",
              "    <tr>\n",
              "      <th>2</th>\n",
              "      <td>522</td>\n",
              "      <td>2019-06-01 00:00:48.3290</td>\n",
              "      <td>2019-06-01 00:09:30.6800</td>\n",
              "      <td>378</td>\n",
              "      <td>191 Beacon St</td>\n",
              "      <td>42.380323</td>\n",
              "      <td>-71.108786</td>\n",
              "      <td>115</td>\n",
              "      <td>Porter Square Station</td>\n",
              "      <td>42.387995</td>\n",
              "      <td>-71.119084</td>\n",
              "      <td>3156</td>\n",
              "      <td>Customer</td>\n",
              "      <td>1969</td>\n",
              "      <td>0</td>\n",
              "    </tr>\n",
              "    <tr>\n",
              "      <th>3</th>\n",
              "      <td>474</td>\n",
              "      <td>2019-06-01 00:01:08.2010</td>\n",
              "      <td>2019-06-01 00:09:02.9930</td>\n",
              "      <td>378</td>\n",
              "      <td>191 Beacon St</td>\n",
              "      <td>42.380323</td>\n",
              "      <td>-71.108786</td>\n",
              "      <td>115</td>\n",
              "      <td>Porter Square Station</td>\n",
              "      <td>42.387995</td>\n",
              "      <td>-71.119084</td>\n",
              "      <td>3678</td>\n",
              "      <td>Subscriber</td>\n",
              "      <td>1988</td>\n",
              "      <td>1</td>\n",
              "    </tr>\n",
              "    <tr>\n",
              "      <th>4</th>\n",
              "      <td>1289</td>\n",
              "      <td>2019-06-01 00:02:14.0130</td>\n",
              "      <td>2019-06-01 00:23:43.4190</td>\n",
              "      <td>342</td>\n",
              "      <td>Boylston St at Jersey St</td>\n",
              "      <td>42.344651</td>\n",
              "      <td>-71.097325</td>\n",
              "      <td>41</td>\n",
              "      <td>Packard's Corner - Commonwealth Ave at Brighto...</td>\n",
              "      <td>42.352261</td>\n",
              "      <td>-71.123831</td>\n",
              "      <td>2560</td>\n",
              "      <td>Subscriber</td>\n",
              "      <td>1989</td>\n",
              "      <td>1</td>\n",
              "    </tr>\n",
              "  </tbody>\n",
              "</table>\n",
              "</div>"
            ],
            "text/plain": [
              "   tripduration                 starttime  ... birth year  gender\n",
              "0           241  2019-06-01 00:00:20.0010  ...       1988       1\n",
              "1           758  2019-06-01 00:00:28.6980  ...       1956       1\n",
              "2           522  2019-06-01 00:00:48.3290  ...       1969       0\n",
              "3           474  2019-06-01 00:01:08.2010  ...       1988       1\n",
              "4          1289  2019-06-01 00:02:14.0130  ...       1989       1\n",
              "\n",
              "[5 rows x 15 columns]"
            ]
          },
          "metadata": {
            "tags": []
          },
          "execution_count": 52
        }
      ]
    },
    {
      "cell_type": "code",
      "metadata": {
        "id": "KZ1-1QQWT46D",
        "outputId": "587ad277-d73a-49d0-934b-153d2667fb80",
        "colab": {
          "base_uri": "https://localhost:8080/"
        }
      },
      "source": [
        "bb1.shape"
      ],
      "execution_count": null,
      "outputs": [
        {
          "output_type": "execute_result",
          "data": {
            "text/plain": [
              "(69872, 15)"
            ]
          },
          "metadata": {
            "tags": []
          },
          "execution_count": 33
        }
      ]
    },
    {
      "cell_type": "code",
      "metadata": {
        "id": "Gm4vWtIPUbiB",
        "outputId": "a54fe276-b74f-4033-bf21-6d80e129b16a",
        "colab": {
          "base_uri": "https://localhost:8080/",
          "height": 581
        }
      },
      "source": [
        "bb2019.head()"
      ],
      "execution_count": null,
      "outputs": [
        {
          "output_type": "execute_result",
          "data": {
            "text/html": [
              "<div>\n",
              "<style scoped>\n",
              "    .dataframe tbody tr th:only-of-type {\n",
              "        vertical-align: middle;\n",
              "    }\n",
              "\n",
              "    .dataframe tbody tr th {\n",
              "        vertical-align: top;\n",
              "    }\n",
              "\n",
              "    .dataframe thead th {\n",
              "        text-align: right;\n",
              "    }\n",
              "</style>\n",
              "<table border=\"1\" class=\"dataframe\">\n",
              "  <thead>\n",
              "    <tr style=\"text-align: right;\">\n",
              "      <th></th>\n",
              "      <th>tripduration</th>\n",
              "      <th>starttime</th>\n",
              "      <th>stoptime</th>\n",
              "      <th>start station id</th>\n",
              "      <th>start station name</th>\n",
              "      <th>start station latitude</th>\n",
              "      <th>start station longitude</th>\n",
              "      <th>end station id</th>\n",
              "      <th>end station name</th>\n",
              "      <th>end station latitude</th>\n",
              "      <th>end station longitude</th>\n",
              "      <th>bikeid</th>\n",
              "      <th>usertype</th>\n",
              "      <th>birth year</th>\n",
              "      <th>gender</th>\n",
              "    </tr>\n",
              "  </thead>\n",
              "  <tbody>\n",
              "    <tr>\n",
              "      <th>0</th>\n",
              "      <td>371</td>\n",
              "      <td>2019-01-01 00:09:13.7980</td>\n",
              "      <td>2019-01-01 00:15:25.3360</td>\n",
              "      <td>80</td>\n",
              "      <td>MIT Stata Center at Vassar St / Main St</td>\n",
              "      <td>42.362131</td>\n",
              "      <td>-71.091156</td>\n",
              "      <td>179</td>\n",
              "      <td>MIT Vassar St</td>\n",
              "      <td>42.355601</td>\n",
              "      <td>-71.103945</td>\n",
              "      <td>3689</td>\n",
              "      <td>Subscriber</td>\n",
              "      <td>1987</td>\n",
              "      <td>1</td>\n",
              "    </tr>\n",
              "    <tr>\n",
              "      <th>1</th>\n",
              "      <td>264</td>\n",
              "      <td>2019-01-01 00:33:56.1820</td>\n",
              "      <td>2019-01-01 00:38:20.8800</td>\n",
              "      <td>117</td>\n",
              "      <td>Binney St / Sixth St</td>\n",
              "      <td>42.366162</td>\n",
              "      <td>-71.086883</td>\n",
              "      <td>189</td>\n",
              "      <td>Kendall T</td>\n",
              "      <td>42.362428</td>\n",
              "      <td>-71.084955</td>\n",
              "      <td>4142</td>\n",
              "      <td>Subscriber</td>\n",
              "      <td>1990</td>\n",
              "      <td>1</td>\n",
              "    </tr>\n",
              "    <tr>\n",
              "      <th>2</th>\n",
              "      <td>458</td>\n",
              "      <td>2019-01-01 00:41:54.6000</td>\n",
              "      <td>2019-01-01 00:49:33.2730</td>\n",
              "      <td>68</td>\n",
              "      <td>Central Square at Mass Ave / Essex St</td>\n",
              "      <td>42.365070</td>\n",
              "      <td>-71.103100</td>\n",
              "      <td>96</td>\n",
              "      <td>Cambridge Main Library at Broadway / Trowbridg...</td>\n",
              "      <td>42.373379</td>\n",
              "      <td>-71.111075</td>\n",
              "      <td>1628</td>\n",
              "      <td>Subscriber</td>\n",
              "      <td>1977</td>\n",
              "      <td>1</td>\n",
              "    </tr>\n",
              "    <tr>\n",
              "      <th>3</th>\n",
              "      <td>364</td>\n",
              "      <td>2019-01-01 00:43:32.5710</td>\n",
              "      <td>2019-01-01 00:49:37.4260</td>\n",
              "      <td>89</td>\n",
              "      <td>Harvard Law School at Mass Ave / Jarvis St</td>\n",
              "      <td>42.379011</td>\n",
              "      <td>-71.119945</td>\n",
              "      <td>334</td>\n",
              "      <td>Mass Ave at Hadley/Walden</td>\n",
              "      <td>42.391210</td>\n",
              "      <td>-71.122608</td>\n",
              "      <td>2969</td>\n",
              "      <td>Subscriber</td>\n",
              "      <td>1993</td>\n",
              "      <td>1</td>\n",
              "    </tr>\n",
              "    <tr>\n",
              "      <th>4</th>\n",
              "      <td>681</td>\n",
              "      <td>2019-01-01 00:49:56.4640</td>\n",
              "      <td>2019-01-01 01:01:17.7010</td>\n",
              "      <td>73</td>\n",
              "      <td>Harvard Square at Brattle St / Eliot St</td>\n",
              "      <td>42.373231</td>\n",
              "      <td>-71.120886</td>\n",
              "      <td>367</td>\n",
              "      <td>Vassal Lane at Tobin/VLUS</td>\n",
              "      <td>42.383932</td>\n",
              "      <td>-71.139613</td>\n",
              "      <td>3469</td>\n",
              "      <td>Subscriber</td>\n",
              "      <td>1979</td>\n",
              "      <td>2</td>\n",
              "    </tr>\n",
              "  </tbody>\n",
              "</table>\n",
              "</div>"
            ],
            "text/plain": [
              "   tripduration                 starttime  ... birth year  gender\n",
              "0           371  2019-01-01 00:09:13.7980  ...       1987       1\n",
              "1           264  2019-01-01 00:33:56.1820  ...       1990       1\n",
              "2           458  2019-01-01 00:41:54.6000  ...       1977       1\n",
              "3           364  2019-01-01 00:43:32.5710  ...       1993       1\n",
              "4           681  2019-01-01 00:49:56.4640  ...       1979       2\n",
              "\n",
              "[5 rows x 15 columns]"
            ]
          },
          "metadata": {
            "tags": []
          },
          "execution_count": 57
        }
      ]
    },
    {
      "cell_type": "code",
      "metadata": {
        "id": "ZFdYbjfbT8Gp"
      },
      "source": [
        "bb2019=bb1.append([bb2,bb3,bb4,bb5,bb6,bb7,bb8,bb9,bb10,bb11,bb12],ignore_index = True)"
      ],
      "execution_count": null,
      "outputs": []
    },
    {
      "cell_type": "code",
      "metadata": {
        "id": "bagXWWy2UsN3",
        "outputId": "fef8816c-09c8-47fc-a0ff-38ddb9d3a19c",
        "colab": {
          "base_uri": "https://localhost:8080/"
        }
      },
      "source": [
        "bb2019.shape"
      ],
      "execution_count": null,
      "outputs": [
        {
          "output_type": "execute_result",
          "data": {
            "text/plain": [
              "(2522537, 15)"
            ]
          },
          "metadata": {
            "tags": []
          },
          "execution_count": 38
        }
      ]
    },
    {
      "cell_type": "code",
      "metadata": {
        "id": "v2wrxAJ_UtcR",
        "outputId": "7f712d3c-d026-4f9d-fc4d-88670cc25126",
        "colab": {
          "base_uri": "https://localhost:8080/",
          "height": 198
        }
      },
      "source": [
        "import pandas as pd\n",
        "from pandas.tseries.holiday import USFederalHolidayCalendar as calendar\n",
        "\n",
        "dr = pd.date_range(start='2019-01-01', end='2019-12-31')\n",
        "df = pd.DataFrame()\n",
        "df['Date'] = dr\n",
        "\n",
        "cal = calendar()\n",
        "holidays = cal.holidays(start=dr.min(), end=dr.max())\n",
        "\n",
        "df['Holiday'] = df['Date'].isin(holidays)\n",
        "df.head()"
      ],
      "execution_count": null,
      "outputs": [
        {
          "output_type": "execute_result",
          "data": {
            "text/html": [
              "<div>\n",
              "<style scoped>\n",
              "    .dataframe tbody tr th:only-of-type {\n",
              "        vertical-align: middle;\n",
              "    }\n",
              "\n",
              "    .dataframe tbody tr th {\n",
              "        vertical-align: top;\n",
              "    }\n",
              "\n",
              "    .dataframe thead th {\n",
              "        text-align: right;\n",
              "    }\n",
              "</style>\n",
              "<table border=\"1\" class=\"dataframe\">\n",
              "  <thead>\n",
              "    <tr style=\"text-align: right;\">\n",
              "      <th></th>\n",
              "      <th>Date</th>\n",
              "      <th>Holiday</th>\n",
              "    </tr>\n",
              "  </thead>\n",
              "  <tbody>\n",
              "    <tr>\n",
              "      <th>0</th>\n",
              "      <td>2019-01-01</td>\n",
              "      <td>True</td>\n",
              "    </tr>\n",
              "    <tr>\n",
              "      <th>1</th>\n",
              "      <td>2019-01-02</td>\n",
              "      <td>False</td>\n",
              "    </tr>\n",
              "    <tr>\n",
              "      <th>2</th>\n",
              "      <td>2019-01-03</td>\n",
              "      <td>False</td>\n",
              "    </tr>\n",
              "    <tr>\n",
              "      <th>3</th>\n",
              "      <td>2019-01-04</td>\n",
              "      <td>False</td>\n",
              "    </tr>\n",
              "    <tr>\n",
              "      <th>4</th>\n",
              "      <td>2019-01-05</td>\n",
              "      <td>False</td>\n",
              "    </tr>\n",
              "  </tbody>\n",
              "</table>\n",
              "</div>"
            ],
            "text/plain": [
              "        Date  Holiday\n",
              "0 2019-01-01     True\n",
              "1 2019-01-02    False\n",
              "2 2019-01-03    False\n",
              "3 2019-01-04    False\n",
              "4 2019-01-05    False"
            ]
          },
          "metadata": {
            "tags": []
          },
          "execution_count": 53
        }
      ]
    },
    {
      "cell_type": "code",
      "metadata": {
        "id": "mtSYTGzUV_uX",
        "outputId": "c888d6b7-d5e2-4644-d3cd-9d1c2d06b0d2",
        "colab": {
          "base_uri": "https://localhost:8080/"
        }
      },
      "source": [
        "bb2019.info()"
      ],
      "execution_count": null,
      "outputs": [
        {
          "output_type": "stream",
          "text": [
            "<class 'pandas.core.frame.DataFrame'>\n",
            "RangeIndex: 2522537 entries, 0 to 2522536\n",
            "Data columns (total 15 columns):\n",
            " #   Column                   Dtype  \n",
            "---  ------                   -----  \n",
            " 0   tripduration             int64  \n",
            " 1   starttime                object \n",
            " 2   stoptime                 object \n",
            " 3   start station id         int64  \n",
            " 4   start station name       object \n",
            " 5   start station latitude   float64\n",
            " 6   start station longitude  float64\n",
            " 7   end station id           int64  \n",
            " 8   end station name         object \n",
            " 9   end station latitude     float64\n",
            " 10  end station longitude    float64\n",
            " 11  bikeid                   int64  \n",
            " 12  usertype                 object \n",
            " 13  birth year               int64  \n",
            " 14  gender                   int64  \n",
            "dtypes: float64(4), int64(6), object(5)\n",
            "memory usage: 288.7+ MB\n"
          ],
          "name": "stdout"
        }
      ]
    },
    {
      "cell_type": "code",
      "metadata": {
        "id": "LjmM-DUUWZAI"
      },
      "source": [
        "bb2019['starttime'] =  pd.to_datetime(bb2019['starttime'])\n",
        "bb2019['stoptime'] =  pd.to_datetime(bb2019['stoptime'])"
      ],
      "execution_count": null,
      "outputs": []
    },
    {
      "cell_type": "code",
      "metadata": {
        "id": "xdtislTbbnMQ",
        "outputId": "8853e78b-b824-4007-8c99-7aa7af1dbcda",
        "colab": {
          "base_uri": "https://localhost:8080/"
        }
      },
      "source": [
        "bb2019.info()"
      ],
      "execution_count": null,
      "outputs": [
        {
          "output_type": "stream",
          "text": [
            "<class 'pandas.core.frame.DataFrame'>\n",
            "RangeIndex: 2522537 entries, 0 to 2522536\n",
            "Data columns (total 15 columns):\n",
            " #   Column                   Dtype         \n",
            "---  ------                   -----         \n",
            " 0   tripduration             int64         \n",
            " 1   starttime                datetime64[ns]\n",
            " 2   stoptime                 datetime64[ns]\n",
            " 3   start station id         int64         \n",
            " 4   start station name       object        \n",
            " 5   start station latitude   float64       \n",
            " 6   start station longitude  float64       \n",
            " 7   end station id           int64         \n",
            " 8   end station name         object        \n",
            " 9   end station latitude     float64       \n",
            " 10  end station longitude    float64       \n",
            " 11  bikeid                   int64         \n",
            " 12  usertype                 object        \n",
            " 13  birth year               int64         \n",
            " 14  gender                   int64         \n",
            "dtypes: datetime64[ns](2), float64(4), int64(6), object(3)\n",
            "memory usage: 288.7+ MB\n"
          ],
          "name": "stdout"
        }
      ]
    },
    {
      "cell_type": "code",
      "metadata": {
        "id": "kcQU5kOLbo2U",
        "outputId": "70d62f1a-31d8-40ba-de0e-dfc27cb13a2c",
        "colab": {
          "base_uri": "https://localhost:8080/",
          "height": 997
        }
      },
      "source": [
        "bb2019['Date']  = bb2019['starttime'].dt.date"
      ],
      "execution_count": null,
      "outputs": [
        {
          "output_type": "execute_result",
          "data": {
            "text/html": [
              "<div>\n",
              "<style scoped>\n",
              "    .dataframe tbody tr th:only-of-type {\n",
              "        vertical-align: middle;\n",
              "    }\n",
              "\n",
              "    .dataframe tbody tr th {\n",
              "        vertical-align: top;\n",
              "    }\n",
              "\n",
              "    .dataframe thead th {\n",
              "        text-align: right;\n",
              "    }\n",
              "</style>\n",
              "<table border=\"1\" class=\"dataframe\">\n",
              "  <thead>\n",
              "    <tr style=\"text-align: right;\">\n",
              "      <th></th>\n",
              "      <th>tripduration</th>\n",
              "      <th>starttime</th>\n",
              "      <th>stoptime</th>\n",
              "      <th>start station id</th>\n",
              "      <th>start station name</th>\n",
              "      <th>start station latitude</th>\n",
              "      <th>start station longitude</th>\n",
              "      <th>end station id</th>\n",
              "      <th>end station name</th>\n",
              "      <th>end station latitude</th>\n",
              "      <th>end station longitude</th>\n",
              "      <th>bikeid</th>\n",
              "      <th>usertype</th>\n",
              "      <th>birth year</th>\n",
              "      <th>gender</th>\n",
              "      <th>Date</th>\n",
              "    </tr>\n",
              "  </thead>\n",
              "  <tbody>\n",
              "    <tr>\n",
              "      <th>0</th>\n",
              "      <td>371</td>\n",
              "      <td>2019-01-01 00:09:13.798</td>\n",
              "      <td>2019-01-01 00:15:25.336</td>\n",
              "      <td>80</td>\n",
              "      <td>MIT Stata Center at Vassar St / Main St</td>\n",
              "      <td>42.362131</td>\n",
              "      <td>-71.091156</td>\n",
              "      <td>179</td>\n",
              "      <td>MIT Vassar St</td>\n",
              "      <td>42.355601</td>\n",
              "      <td>-71.103945</td>\n",
              "      <td>3689</td>\n",
              "      <td>Subscriber</td>\n",
              "      <td>1987</td>\n",
              "      <td>1</td>\n",
              "      <td>2019-01-01</td>\n",
              "    </tr>\n",
              "    <tr>\n",
              "      <th>1</th>\n",
              "      <td>264</td>\n",
              "      <td>2019-01-01 00:33:56.182</td>\n",
              "      <td>2019-01-01 00:38:20.880</td>\n",
              "      <td>117</td>\n",
              "      <td>Binney St / Sixth St</td>\n",
              "      <td>42.366162</td>\n",
              "      <td>-71.086883</td>\n",
              "      <td>189</td>\n",
              "      <td>Kendall T</td>\n",
              "      <td>42.362428</td>\n",
              "      <td>-71.084955</td>\n",
              "      <td>4142</td>\n",
              "      <td>Subscriber</td>\n",
              "      <td>1990</td>\n",
              "      <td>1</td>\n",
              "      <td>2019-01-01</td>\n",
              "    </tr>\n",
              "    <tr>\n",
              "      <th>2</th>\n",
              "      <td>458</td>\n",
              "      <td>2019-01-01 00:41:54.600</td>\n",
              "      <td>2019-01-01 00:49:33.273</td>\n",
              "      <td>68</td>\n",
              "      <td>Central Square at Mass Ave / Essex St</td>\n",
              "      <td>42.365070</td>\n",
              "      <td>-71.103100</td>\n",
              "      <td>96</td>\n",
              "      <td>Cambridge Main Library at Broadway / Trowbridg...</td>\n",
              "      <td>42.373379</td>\n",
              "      <td>-71.111075</td>\n",
              "      <td>1628</td>\n",
              "      <td>Subscriber</td>\n",
              "      <td>1977</td>\n",
              "      <td>1</td>\n",
              "      <td>2019-01-01</td>\n",
              "    </tr>\n",
              "    <tr>\n",
              "      <th>3</th>\n",
              "      <td>364</td>\n",
              "      <td>2019-01-01 00:43:32.571</td>\n",
              "      <td>2019-01-01 00:49:37.426</td>\n",
              "      <td>89</td>\n",
              "      <td>Harvard Law School at Mass Ave / Jarvis St</td>\n",
              "      <td>42.379011</td>\n",
              "      <td>-71.119945</td>\n",
              "      <td>334</td>\n",
              "      <td>Mass Ave at Hadley/Walden</td>\n",
              "      <td>42.391210</td>\n",
              "      <td>-71.122608</td>\n",
              "      <td>2969</td>\n",
              "      <td>Subscriber</td>\n",
              "      <td>1993</td>\n",
              "      <td>1</td>\n",
              "      <td>2019-01-01</td>\n",
              "    </tr>\n",
              "    <tr>\n",
              "      <th>4</th>\n",
              "      <td>681</td>\n",
              "      <td>2019-01-01 00:49:56.464</td>\n",
              "      <td>2019-01-01 01:01:17.701</td>\n",
              "      <td>73</td>\n",
              "      <td>Harvard Square at Brattle St / Eliot St</td>\n",
              "      <td>42.373231</td>\n",
              "      <td>-71.120886</td>\n",
              "      <td>367</td>\n",
              "      <td>Vassal Lane at Tobin/VLUS</td>\n",
              "      <td>42.383932</td>\n",
              "      <td>-71.139613</td>\n",
              "      <td>3469</td>\n",
              "      <td>Subscriber</td>\n",
              "      <td>1979</td>\n",
              "      <td>2</td>\n",
              "      <td>2019-01-01</td>\n",
              "    </tr>\n",
              "    <tr>\n",
              "      <th>...</th>\n",
              "      <td>...</td>\n",
              "      <td>...</td>\n",
              "      <td>...</td>\n",
              "      <td>...</td>\n",
              "      <td>...</td>\n",
              "      <td>...</td>\n",
              "      <td>...</td>\n",
              "      <td>...</td>\n",
              "      <td>...</td>\n",
              "      <td>...</td>\n",
              "      <td>...</td>\n",
              "      <td>...</td>\n",
              "      <td>...</td>\n",
              "      <td>...</td>\n",
              "      <td>...</td>\n",
              "      <td>...</td>\n",
              "    </tr>\n",
              "    <tr>\n",
              "      <th>2522532</th>\n",
              "      <td>1562</td>\n",
              "      <td>2019-12-31 23:52:10.728</td>\n",
              "      <td>2020-01-01 00:18:13.418</td>\n",
              "      <td>22</td>\n",
              "      <td>South Station - 700 Atlantic Ave</td>\n",
              "      <td>42.352175</td>\n",
              "      <td>-71.055547</td>\n",
              "      <td>22</td>\n",
              "      <td>South Station - 700 Atlantic Ave</td>\n",
              "      <td>42.352175</td>\n",
              "      <td>-71.055547</td>\n",
              "      <td>4503</td>\n",
              "      <td>Customer</td>\n",
              "      <td>1995</td>\n",
              "      <td>1</td>\n",
              "      <td>2019-12-31</td>\n",
              "    </tr>\n",
              "    <tr>\n",
              "      <th>2522533</th>\n",
              "      <td>2250</td>\n",
              "      <td>2019-12-31 23:52:14.927</td>\n",
              "      <td>2020-01-01 00:29:45.821</td>\n",
              "      <td>22</td>\n",
              "      <td>South Station - 700 Atlantic Ave</td>\n",
              "      <td>42.352175</td>\n",
              "      <td>-71.055547</td>\n",
              "      <td>22</td>\n",
              "      <td>South Station - 700 Atlantic Ave</td>\n",
              "      <td>42.352175</td>\n",
              "      <td>-71.055547</td>\n",
              "      <td>5326</td>\n",
              "      <td>Customer</td>\n",
              "      <td>1995</td>\n",
              "      <td>1</td>\n",
              "      <td>2019-12-31</td>\n",
              "    </tr>\n",
              "    <tr>\n",
              "      <th>2522534</th>\n",
              "      <td>397</td>\n",
              "      <td>2019-12-31 23:54:58.391</td>\n",
              "      <td>2020-01-01 00:01:35.479</td>\n",
              "      <td>386</td>\n",
              "      <td>Sennott Park  Broadway at Norfolk Street</td>\n",
              "      <td>42.368605</td>\n",
              "      <td>-71.099302</td>\n",
              "      <td>228</td>\n",
              "      <td>One Memorial Drive</td>\n",
              "      <td>42.361619</td>\n",
              "      <td>-71.080436</td>\n",
              "      <td>4483</td>\n",
              "      <td>Subscriber</td>\n",
              "      <td>1994</td>\n",
              "      <td>1</td>\n",
              "      <td>2019-12-31</td>\n",
              "    </tr>\n",
              "    <tr>\n",
              "      <th>2522535</th>\n",
              "      <td>360</td>\n",
              "      <td>2019-12-31 23:55:54.544</td>\n",
              "      <td>2020-01-01 00:01:55.427</td>\n",
              "      <td>47</td>\n",
              "      <td>Cross St at Hanover St</td>\n",
              "      <td>42.362811</td>\n",
              "      <td>-71.056067</td>\n",
              "      <td>98</td>\n",
              "      <td>Warren St at Chelsea St</td>\n",
              "      <td>42.371848</td>\n",
              "      <td>-71.060292</td>\n",
              "      <td>3955</td>\n",
              "      <td>Subscriber</td>\n",
              "      <td>1965</td>\n",
              "      <td>1</td>\n",
              "      <td>2019-12-31</td>\n",
              "    </tr>\n",
              "    <tr>\n",
              "      <th>2522536</th>\n",
              "      <td>63</td>\n",
              "      <td>2019-12-31 23:57:49.672</td>\n",
              "      <td>2019-12-31 23:58:52.973</td>\n",
              "      <td>352</td>\n",
              "      <td>Ring Rd</td>\n",
              "      <td>42.348278</td>\n",
              "      <td>-71.080449</td>\n",
              "      <td>372</td>\n",
              "      <td>Boylston St at Exeter St</td>\n",
              "      <td>42.349589</td>\n",
              "      <td>-71.079468</td>\n",
              "      <td>3205</td>\n",
              "      <td>Subscriber</td>\n",
              "      <td>1960</td>\n",
              "      <td>1</td>\n",
              "      <td>2019-12-31</td>\n",
              "    </tr>\n",
              "  </tbody>\n",
              "</table>\n",
              "<p>2522537 rows × 16 columns</p>\n",
              "</div>"
            ],
            "text/plain": [
              "         tripduration               starttime  ... gender        Date\n",
              "0                 371 2019-01-01 00:09:13.798  ...      1  2019-01-01\n",
              "1                 264 2019-01-01 00:33:56.182  ...      1  2019-01-01\n",
              "2                 458 2019-01-01 00:41:54.600  ...      1  2019-01-01\n",
              "3                 364 2019-01-01 00:43:32.571  ...      1  2019-01-01\n",
              "4                 681 2019-01-01 00:49:56.464  ...      2  2019-01-01\n",
              "...               ...                     ...  ...    ...         ...\n",
              "2522532          1562 2019-12-31 23:52:10.728  ...      1  2019-12-31\n",
              "2522533          2250 2019-12-31 23:52:14.927  ...      1  2019-12-31\n",
              "2522534           397 2019-12-31 23:54:58.391  ...      1  2019-12-31\n",
              "2522535           360 2019-12-31 23:55:54.544  ...      1  2019-12-31\n",
              "2522536            63 2019-12-31 23:57:49.672  ...      1  2019-12-31\n",
              "\n",
              "[2522537 rows x 16 columns]"
            ]
          },
          "metadata": {
            "tags": []
          },
          "execution_count": 76
        }
      ]
    },
    {
      "cell_type": "code",
      "metadata": {
        "id": "9ruXh585fNLl",
        "outputId": "ce196d82-f85d-4021-b744-f63248876358",
        "colab": {
          "base_uri": "https://localhost:8080/"
        }
      },
      "source": [
        "bb2019 = bb2019.rename(columns={'date':'Date'})\n",
        "bb2019.columns"
      ],
      "execution_count": null,
      "outputs": [
        {
          "output_type": "execute_result",
          "data": {
            "text/plain": [
              "Index(['tripduration', 'starttime', 'stoptime', 'start station id',\n",
              "       'start station name', 'start station latitude',\n",
              "       'start station longitude', 'end station id', 'end station name',\n",
              "       'end station latitude', 'end station longitude', 'bikeid', 'usertype',\n",
              "       'birth year', 'gender', 'Date'],\n",
              "      dtype='object')"
            ]
          },
          "metadata": {
            "tags": []
          },
          "execution_count": 92
        }
      ]
    },
    {
      "cell_type": "code",
      "metadata": {
        "id": "pJ1IJzqpe4fG"
      },
      "source": [
        "bb2019['Date']=pd.to_datetime(bb2019['Date'])"
      ],
      "execution_count": null,
      "outputs": []
    },
    {
      "cell_type": "code",
      "metadata": {
        "id": "b5YazBeMcD2y",
        "outputId": "b7b3304e-0abb-4d1b-ff59-dc3d02661ba8",
        "colab": {
          "base_uri": "https://localhost:8080/",
          "height": 997
        }
      },
      "source": [
        "bb2019.merge(df,left_on ='Date', right_on = 'Date', how = 'left')"
      ],
      "execution_count": null,
      "outputs": [
        {
          "output_type": "execute_result",
          "data": {
            "text/html": [
              "<div>\n",
              "<style scoped>\n",
              "    .dataframe tbody tr th:only-of-type {\n",
              "        vertical-align: middle;\n",
              "    }\n",
              "\n",
              "    .dataframe tbody tr th {\n",
              "        vertical-align: top;\n",
              "    }\n",
              "\n",
              "    .dataframe thead th {\n",
              "        text-align: right;\n",
              "    }\n",
              "</style>\n",
              "<table border=\"1\" class=\"dataframe\">\n",
              "  <thead>\n",
              "    <tr style=\"text-align: right;\">\n",
              "      <th></th>\n",
              "      <th>tripduration</th>\n",
              "      <th>starttime</th>\n",
              "      <th>stoptime</th>\n",
              "      <th>start station id</th>\n",
              "      <th>start station name</th>\n",
              "      <th>start station latitude</th>\n",
              "      <th>start station longitude</th>\n",
              "      <th>end station id</th>\n",
              "      <th>end station name</th>\n",
              "      <th>end station latitude</th>\n",
              "      <th>end station longitude</th>\n",
              "      <th>bikeid</th>\n",
              "      <th>usertype</th>\n",
              "      <th>birth year</th>\n",
              "      <th>gender</th>\n",
              "      <th>Date</th>\n",
              "      <th>Holiday</th>\n",
              "    </tr>\n",
              "  </thead>\n",
              "  <tbody>\n",
              "    <tr>\n",
              "      <th>0</th>\n",
              "      <td>371</td>\n",
              "      <td>2019-01-01 00:09:13.798</td>\n",
              "      <td>2019-01-01 00:15:25.336</td>\n",
              "      <td>80</td>\n",
              "      <td>MIT Stata Center at Vassar St / Main St</td>\n",
              "      <td>42.362131</td>\n",
              "      <td>-71.091156</td>\n",
              "      <td>179</td>\n",
              "      <td>MIT Vassar St</td>\n",
              "      <td>42.355601</td>\n",
              "      <td>-71.103945</td>\n",
              "      <td>3689</td>\n",
              "      <td>Subscriber</td>\n",
              "      <td>1987</td>\n",
              "      <td>1</td>\n",
              "      <td>2019-01-01</td>\n",
              "      <td>True</td>\n",
              "    </tr>\n",
              "    <tr>\n",
              "      <th>1</th>\n",
              "      <td>264</td>\n",
              "      <td>2019-01-01 00:33:56.182</td>\n",
              "      <td>2019-01-01 00:38:20.880</td>\n",
              "      <td>117</td>\n",
              "      <td>Binney St / Sixth St</td>\n",
              "      <td>42.366162</td>\n",
              "      <td>-71.086883</td>\n",
              "      <td>189</td>\n",
              "      <td>Kendall T</td>\n",
              "      <td>42.362428</td>\n",
              "      <td>-71.084955</td>\n",
              "      <td>4142</td>\n",
              "      <td>Subscriber</td>\n",
              "      <td>1990</td>\n",
              "      <td>1</td>\n",
              "      <td>2019-01-01</td>\n",
              "      <td>True</td>\n",
              "    </tr>\n",
              "    <tr>\n",
              "      <th>2</th>\n",
              "      <td>458</td>\n",
              "      <td>2019-01-01 00:41:54.600</td>\n",
              "      <td>2019-01-01 00:49:33.273</td>\n",
              "      <td>68</td>\n",
              "      <td>Central Square at Mass Ave / Essex St</td>\n",
              "      <td>42.365070</td>\n",
              "      <td>-71.103100</td>\n",
              "      <td>96</td>\n",
              "      <td>Cambridge Main Library at Broadway / Trowbridg...</td>\n",
              "      <td>42.373379</td>\n",
              "      <td>-71.111075</td>\n",
              "      <td>1628</td>\n",
              "      <td>Subscriber</td>\n",
              "      <td>1977</td>\n",
              "      <td>1</td>\n",
              "      <td>2019-01-01</td>\n",
              "      <td>True</td>\n",
              "    </tr>\n",
              "    <tr>\n",
              "      <th>3</th>\n",
              "      <td>364</td>\n",
              "      <td>2019-01-01 00:43:32.571</td>\n",
              "      <td>2019-01-01 00:49:37.426</td>\n",
              "      <td>89</td>\n",
              "      <td>Harvard Law School at Mass Ave / Jarvis St</td>\n",
              "      <td>42.379011</td>\n",
              "      <td>-71.119945</td>\n",
              "      <td>334</td>\n",
              "      <td>Mass Ave at Hadley/Walden</td>\n",
              "      <td>42.391210</td>\n",
              "      <td>-71.122608</td>\n",
              "      <td>2969</td>\n",
              "      <td>Subscriber</td>\n",
              "      <td>1993</td>\n",
              "      <td>1</td>\n",
              "      <td>2019-01-01</td>\n",
              "      <td>True</td>\n",
              "    </tr>\n",
              "    <tr>\n",
              "      <th>4</th>\n",
              "      <td>681</td>\n",
              "      <td>2019-01-01 00:49:56.464</td>\n",
              "      <td>2019-01-01 01:01:17.701</td>\n",
              "      <td>73</td>\n",
              "      <td>Harvard Square at Brattle St / Eliot St</td>\n",
              "      <td>42.373231</td>\n",
              "      <td>-71.120886</td>\n",
              "      <td>367</td>\n",
              "      <td>Vassal Lane at Tobin/VLUS</td>\n",
              "      <td>42.383932</td>\n",
              "      <td>-71.139613</td>\n",
              "      <td>3469</td>\n",
              "      <td>Subscriber</td>\n",
              "      <td>1979</td>\n",
              "      <td>2</td>\n",
              "      <td>2019-01-01</td>\n",
              "      <td>True</td>\n",
              "    </tr>\n",
              "    <tr>\n",
              "      <th>...</th>\n",
              "      <td>...</td>\n",
              "      <td>...</td>\n",
              "      <td>...</td>\n",
              "      <td>...</td>\n",
              "      <td>...</td>\n",
              "      <td>...</td>\n",
              "      <td>...</td>\n",
              "      <td>...</td>\n",
              "      <td>...</td>\n",
              "      <td>...</td>\n",
              "      <td>...</td>\n",
              "      <td>...</td>\n",
              "      <td>...</td>\n",
              "      <td>...</td>\n",
              "      <td>...</td>\n",
              "      <td>...</td>\n",
              "      <td>...</td>\n",
              "    </tr>\n",
              "    <tr>\n",
              "      <th>2522532</th>\n",
              "      <td>1562</td>\n",
              "      <td>2019-12-31 23:52:10.728</td>\n",
              "      <td>2020-01-01 00:18:13.418</td>\n",
              "      <td>22</td>\n",
              "      <td>South Station - 700 Atlantic Ave</td>\n",
              "      <td>42.352175</td>\n",
              "      <td>-71.055547</td>\n",
              "      <td>22</td>\n",
              "      <td>South Station - 700 Atlantic Ave</td>\n",
              "      <td>42.352175</td>\n",
              "      <td>-71.055547</td>\n",
              "      <td>4503</td>\n",
              "      <td>Customer</td>\n",
              "      <td>1995</td>\n",
              "      <td>1</td>\n",
              "      <td>2019-12-31</td>\n",
              "      <td>False</td>\n",
              "    </tr>\n",
              "    <tr>\n",
              "      <th>2522533</th>\n",
              "      <td>2250</td>\n",
              "      <td>2019-12-31 23:52:14.927</td>\n",
              "      <td>2020-01-01 00:29:45.821</td>\n",
              "      <td>22</td>\n",
              "      <td>South Station - 700 Atlantic Ave</td>\n",
              "      <td>42.352175</td>\n",
              "      <td>-71.055547</td>\n",
              "      <td>22</td>\n",
              "      <td>South Station - 700 Atlantic Ave</td>\n",
              "      <td>42.352175</td>\n",
              "      <td>-71.055547</td>\n",
              "      <td>5326</td>\n",
              "      <td>Customer</td>\n",
              "      <td>1995</td>\n",
              "      <td>1</td>\n",
              "      <td>2019-12-31</td>\n",
              "      <td>False</td>\n",
              "    </tr>\n",
              "    <tr>\n",
              "      <th>2522534</th>\n",
              "      <td>397</td>\n",
              "      <td>2019-12-31 23:54:58.391</td>\n",
              "      <td>2020-01-01 00:01:35.479</td>\n",
              "      <td>386</td>\n",
              "      <td>Sennott Park  Broadway at Norfolk Street</td>\n",
              "      <td>42.368605</td>\n",
              "      <td>-71.099302</td>\n",
              "      <td>228</td>\n",
              "      <td>One Memorial Drive</td>\n",
              "      <td>42.361619</td>\n",
              "      <td>-71.080436</td>\n",
              "      <td>4483</td>\n",
              "      <td>Subscriber</td>\n",
              "      <td>1994</td>\n",
              "      <td>1</td>\n",
              "      <td>2019-12-31</td>\n",
              "      <td>False</td>\n",
              "    </tr>\n",
              "    <tr>\n",
              "      <th>2522535</th>\n",
              "      <td>360</td>\n",
              "      <td>2019-12-31 23:55:54.544</td>\n",
              "      <td>2020-01-01 00:01:55.427</td>\n",
              "      <td>47</td>\n",
              "      <td>Cross St at Hanover St</td>\n",
              "      <td>42.362811</td>\n",
              "      <td>-71.056067</td>\n",
              "      <td>98</td>\n",
              "      <td>Warren St at Chelsea St</td>\n",
              "      <td>42.371848</td>\n",
              "      <td>-71.060292</td>\n",
              "      <td>3955</td>\n",
              "      <td>Subscriber</td>\n",
              "      <td>1965</td>\n",
              "      <td>1</td>\n",
              "      <td>2019-12-31</td>\n",
              "      <td>False</td>\n",
              "    </tr>\n",
              "    <tr>\n",
              "      <th>2522536</th>\n",
              "      <td>63</td>\n",
              "      <td>2019-12-31 23:57:49.672</td>\n",
              "      <td>2019-12-31 23:58:52.973</td>\n",
              "      <td>352</td>\n",
              "      <td>Ring Rd</td>\n",
              "      <td>42.348278</td>\n",
              "      <td>-71.080449</td>\n",
              "      <td>372</td>\n",
              "      <td>Boylston St at Exeter St</td>\n",
              "      <td>42.349589</td>\n",
              "      <td>-71.079468</td>\n",
              "      <td>3205</td>\n",
              "      <td>Subscriber</td>\n",
              "      <td>1960</td>\n",
              "      <td>1</td>\n",
              "      <td>2019-12-31</td>\n",
              "      <td>False</td>\n",
              "    </tr>\n",
              "  </tbody>\n",
              "</table>\n",
              "<p>2522537 rows × 17 columns</p>\n",
              "</div>"
            ],
            "text/plain": [
              "         tripduration               starttime  ...       Date  Holiday\n",
              "0                 371 2019-01-01 00:09:13.798  ... 2019-01-01     True\n",
              "1                 264 2019-01-01 00:33:56.182  ... 2019-01-01     True\n",
              "2                 458 2019-01-01 00:41:54.600  ... 2019-01-01     True\n",
              "3                 364 2019-01-01 00:43:32.571  ... 2019-01-01     True\n",
              "4                 681 2019-01-01 00:49:56.464  ... 2019-01-01     True\n",
              "...               ...                     ...  ...        ...      ...\n",
              "2522532          1562 2019-12-31 23:52:10.728  ... 2019-12-31    False\n",
              "2522533          2250 2019-12-31 23:52:14.927  ... 2019-12-31    False\n",
              "2522534           397 2019-12-31 23:54:58.391  ... 2019-12-31    False\n",
              "2522535           360 2019-12-31 23:55:54.544  ... 2019-12-31    False\n",
              "2522536            63 2019-12-31 23:57:49.672  ... 2019-12-31    False\n",
              "\n",
              "[2522537 rows x 17 columns]"
            ]
          },
          "metadata": {
            "tags": []
          },
          "execution_count": 94
        }
      ]
    },
    {
      "cell_type": "code",
      "metadata": {
        "id": "ZfFuB8BJeoWE",
        "outputId": "19c76c1a-2b00-460a-fe23-9d61769e5652",
        "colab": {
          "base_uri": "https://localhost:8080/"
        }
      },
      "source": [
        "df.info()"
      ],
      "execution_count": null,
      "outputs": [
        {
          "output_type": "stream",
          "text": [
            "<class 'pandas.core.frame.DataFrame'>\n",
            "RangeIndex: 365 entries, 0 to 364\n",
            "Data columns (total 2 columns):\n",
            " #   Column   Non-Null Count  Dtype         \n",
            "---  ------   --------------  -----         \n",
            " 0   Date     365 non-null    datetime64[ns]\n",
            " 1   Holiday  365 non-null    bool          \n",
            "dtypes: bool(1), datetime64[ns](1)\n",
            "memory usage: 3.3 KB\n"
          ],
          "name": "stdout"
        }
      ]
    },
    {
      "cell_type": "code",
      "metadata": {
        "id": "gAfDoNbKepgT",
        "outputId": "1bd4fd0a-2a8b-483a-e781-bfee66725a4f",
        "colab": {
          "base_uri": "https://localhost:8080/"
        }
      },
      "source": [
        "bb2019.info()"
      ],
      "execution_count": null,
      "outputs": [
        {
          "output_type": "stream",
          "text": [
            "<class 'pandas.core.frame.DataFrame'>\n",
            "RangeIndex: 2522537 entries, 0 to 2522536\n",
            "Data columns (total 16 columns):\n",
            " #   Column                   Dtype         \n",
            "---  ------                   -----         \n",
            " 0   tripduration             int64         \n",
            " 1   starttime                datetime64[ns]\n",
            " 2   stoptime                 datetime64[ns]\n",
            " 3   start station id         int64         \n",
            " 4   start station name       object        \n",
            " 5   start station latitude   float64       \n",
            " 6   start station longitude  float64       \n",
            " 7   end station id           int64         \n",
            " 8   end station name         object        \n",
            " 9   end station latitude     float64       \n",
            " 10  end station longitude    float64       \n",
            " 11  bikeid                   int64         \n",
            " 12  usertype                 object        \n",
            " 13  birth year               int64         \n",
            " 14  gender                   int64         \n",
            " 15  date                     object        \n",
            "dtypes: datetime64[ns](2), float64(4), int64(6), object(4)\n",
            "memory usage: 307.9+ MB\n"
          ],
          "name": "stdout"
        }
      ]
    },
    {
      "cell_type": "code",
      "metadata": {
        "id": "WhYwKlfOesJc",
        "outputId": "6e0a2d13-d15b-4baa-bbec-d187da0d63c0",
        "colab": {
          "base_uri": "https://localhost:8080/",
          "height": 183
        }
      },
      "source": [
        "bb2019.to_csv('bb2019.csv')"
      ],
      "execution_count": null,
      "outputs": [
        {
          "output_type": "error",
          "ename": "NameError",
          "evalue": "ignored",
          "traceback": [
            "\u001b[0;31m---------------------------------------------------------------------------\u001b[0m",
            "\u001b[0;31mNameError\u001b[0m                                 Traceback (most recent call last)",
            "\u001b[0;32m<ipython-input-96-72847db768eb>\u001b[0m in \u001b[0;36m<module>\u001b[0;34m()\u001b[0m\n\u001b[1;32m      1\u001b[0m \u001b[0mbb2019\u001b[0m\u001b[0;34m.\u001b[0m\u001b[0mto_csv\u001b[0m\u001b[0;34m(\u001b[0m\u001b[0;34m'bb2019.csv'\u001b[0m\u001b[0;34m)\u001b[0m\u001b[0;34m\u001b[0m\u001b[0;34m\u001b[0m\u001b[0m\n\u001b[0;32m----> 2\u001b[0;31m \u001b[0mfiles\u001b[0m\u001b[0;34m.\u001b[0m\u001b[0mdownload\u001b[0m\u001b[0;34m(\u001b[0m\u001b[0;34m'bb2019.csv'\u001b[0m\u001b[0;34m)\u001b[0m\u001b[0;34m\u001b[0m\u001b[0;34m\u001b[0m\u001b[0m\n\u001b[0m",
            "\u001b[0;31mNameError\u001b[0m: name 'files' is not defined"
          ]
        }
      ]
    },
    {
      "cell_type": "code",
      "metadata": {
        "id": "Ob82GdCuoGb_",
        "outputId": "3b095367-0c21-43f4-d43b-6f3ec5fe1a5b",
        "colab": {
          "base_uri": "https://localhost:8080/"
        }
      },
      "source": [
        "bos19 = pd.read_csv('/content/bosweather19.csv')"
      ],
      "execution_count": null,
      "outputs": [
        {
          "output_type": "stream",
          "text": [
            "<class 'pandas.core.frame.DataFrame'>\n",
            "RangeIndex: 365 entries, 0 to 364\n",
            "Data columns (total 8 columns):\n",
            " #   Column      Non-Null Count  Dtype  \n",
            "---  ------      --------------  -----  \n",
            " 0   Unnamed: 0  365 non-null    int64  \n",
            " 1   NAME        365 non-null    object \n",
            " 2   DATE        365 non-null    object \n",
            " 3   AWND        365 non-null    float64\n",
            " 4   PRCP        365 non-null    float64\n",
            " 5   SNOW        365 non-null    float64\n",
            " 6   TAVG        365 non-null    int64  \n",
            " 7   WT          152 non-null    object \n",
            "dtypes: float64(3), int64(2), object(3)\n",
            "memory usage: 22.9+ KB\n"
          ],
          "name": "stdout"
        }
      ]
    },
    {
      "cell_type": "code",
      "metadata": {
        "id": "qyBd2WG5yNF9"
      },
      "source": [
        "bos19.info()"
      ],
      "execution_count": null,
      "outputs": []
    },
    {
      "cell_type": "code",
      "metadata": {
        "id": "E43HgwWxx6kN",
        "outputId": "86b6b8a2-641a-4a10-f732-b16360e822f5",
        "colab": {
          "base_uri": "https://localhost:8080/"
        }
      },
      "source": [
        "bos19['DATE'] = pd.to_datetime(bos19['DATE'])\n",
        "bos19.info()"
      ],
      "execution_count": null,
      "outputs": [
        {
          "output_type": "stream",
          "text": [
            "<class 'pandas.core.frame.DataFrame'>\n",
            "RangeIndex: 365 entries, 0 to 364\n",
            "Data columns (total 8 columns):\n",
            " #   Column      Non-Null Count  Dtype         \n",
            "---  ------      --------------  -----         \n",
            " 0   Unnamed: 0  365 non-null    int64         \n",
            " 1   NAME        365 non-null    object        \n",
            " 2   DATE        365 non-null    datetime64[ns]\n",
            " 3   AWND        365 non-null    float64       \n",
            " 4   PRCP        365 non-null    float64       \n",
            " 5   SNOW        365 non-null    float64       \n",
            " 6   TAVG        365 non-null    int64         \n",
            " 7   WT          152 non-null    object        \n",
            "dtypes: datetime64[ns](1), float64(3), int64(2), object(2)\n",
            "memory usage: 22.9+ KB\n"
          ],
          "name": "stdout"
        }
      ]
    },
    {
      "cell_type": "code",
      "metadata": {
        "id": "1_vl-hfixa3o"
      },
      "source": [
        "Blue19 = bb2019.merge(bos19,left_on = 'Date',right_on ='DATE',how='left')"
      ],
      "execution_count": null,
      "outputs": []
    },
    {
      "cell_type": "code",
      "metadata": {
        "id": "s80oxhAYySgq",
        "outputId": "ac9157e3-f806-4fca-f1cc-7d2c18c9f688",
        "colab": {
          "base_uri": "https://localhost:8080/"
        }
      },
      "source": [
        "Blue19.info()"
      ],
      "execution_count": null,
      "outputs": [
        {
          "output_type": "stream",
          "text": [
            "<class 'pandas.core.frame.DataFrame'>\n",
            "Int64Index: 2522537 entries, 0 to 2522536\n",
            "Data columns (total 24 columns):\n",
            " #   Column                   Dtype         \n",
            "---  ------                   -----         \n",
            " 0   tripduration             int64         \n",
            " 1   starttime                datetime64[ns]\n",
            " 2   stoptime                 datetime64[ns]\n",
            " 3   start station id         int64         \n",
            " 4   start station name       object        \n",
            " 5   start station latitude   float64       \n",
            " 6   start station longitude  float64       \n",
            " 7   end station id           int64         \n",
            " 8   end station name         object        \n",
            " 9   end station latitude     float64       \n",
            " 10  end station longitude    float64       \n",
            " 11  bikeid                   int64         \n",
            " 12  usertype                 object        \n",
            " 13  birth year               int64         \n",
            " 14  gender                   int64         \n",
            " 15  Date                     datetime64[ns]\n",
            " 16  Unnamed: 0               int64         \n",
            " 17  NAME                     object        \n",
            " 18  DATE                     datetime64[ns]\n",
            " 19  AWND                     float64       \n",
            " 20  PRCP                     float64       \n",
            " 21  SNOW                     float64       \n",
            " 22  TAVG                     int64         \n",
            " 23  WT                       object        \n",
            "dtypes: datetime64[ns](4), float64(7), int64(8), object(5)\n",
            "memory usage: 481.1+ MB\n"
          ],
          "name": "stdout"
        }
      ]
    },
    {
      "cell_type": "code",
      "metadata": {
        "id": "aFCqR41AyVFq",
        "outputId": "7155dfe8-d8a7-4c39-e1ee-c9ccd72aae12",
        "colab": {
          "base_uri": "https://localhost:8080/"
        }
      },
      "source": [
        "Blue19.columns"
      ],
      "execution_count": null,
      "outputs": [
        {
          "output_type": "execute_result",
          "data": {
            "text/plain": [
              "Index(['tripduration', 'starttime', 'stoptime', 'start station id',\n",
              "       'start station name', 'start station latitude',\n",
              "       'start station longitude', 'end station id', 'end station name',\n",
              "       'end station latitude', 'end station longitude', 'bikeid', 'usertype',\n",
              "       'birth year', 'gender', 'Date', 'Unnamed: 0', 'NAME', 'DATE', 'AWND',\n",
              "       'PRCP', 'SNOW', 'TAVG', 'WT'],\n",
              "      dtype='object')"
            ]
          },
          "metadata": {
            "tags": []
          },
          "execution_count": 117
        }
      ]
    },
    {
      "cell_type": "code",
      "metadata": {
        "id": "yJekx6yCyZOs"
      },
      "source": [
        "Blue19 = Blue19[['tripduration', 'starttime', 'stoptime', 'start station id',\n",
        "       'start station name', 'start station latitude',\n",
        "       'start station longitude', 'end station id', 'end station name',\n",
        "       'end station latitude', 'end station longitude', 'bikeid', 'usertype',\n",
        "       'birth year', 'gender', 'Date', 'AWND',\n",
        "       'PRCP', 'SNOW', 'TAVG', 'WT']]"
      ],
      "execution_count": null,
      "outputs": []
    },
    {
      "cell_type": "code",
      "metadata": {
        "id": "otPTEIfHyltS",
        "outputId": "a1a10c5a-dc22-4b1c-80bb-41e81b623966",
        "colab": {
          "base_uri": "https://localhost:8080/"
        }
      },
      "source": [
        "Blue19.info()"
      ],
      "execution_count": null,
      "outputs": [
        {
          "output_type": "stream",
          "text": [
            "<class 'pandas.core.frame.DataFrame'>\n",
            "Int64Index: 2522537 entries, 0 to 2522536\n",
            "Data columns (total 21 columns):\n",
            " #   Column                   Dtype         \n",
            "---  ------                   -----         \n",
            " 0   tripduration             int64         \n",
            " 1   starttime                datetime64[ns]\n",
            " 2   stoptime                 datetime64[ns]\n",
            " 3   start station id         int64         \n",
            " 4   start station name       object        \n",
            " 5   start station latitude   float64       \n",
            " 6   start station longitude  float64       \n",
            " 7   end station id           int64         \n",
            " 8   end station name         object        \n",
            " 9   end station latitude     float64       \n",
            " 10  end station longitude    float64       \n",
            " 11  bikeid                   int64         \n",
            " 12  usertype                 object        \n",
            " 13  birth year               int64         \n",
            " 14  gender                   int64         \n",
            " 15  Date                     datetime64[ns]\n",
            " 16  AWND                     float64       \n",
            " 17  PRCP                     float64       \n",
            " 18  SNOW                     float64       \n",
            " 19  TAVG                     int64         \n",
            " 20  WT                       object        \n",
            "dtypes: datetime64[ns](3), float64(7), int64(7), object(4)\n",
            "memory usage: 423.4+ MB\n"
          ],
          "name": "stdout"
        }
      ]
    },
    {
      "cell_type": "code",
      "metadata": {
        "id": "GjSl3LP5ynGE",
        "outputId": "50c3b040-7ffc-4ce7-c92e-a7fae6f22977",
        "colab": {
          "base_uri": "https://localhost:8080/",
          "height": 362
        }
      },
      "source": [
        "Blue19.to_csv('Blue_19.csv')"
      ],
      "execution_count": null,
      "outputs": [
        {
          "output_type": "error",
          "ename": "KeyboardInterrupt",
          "evalue": "ignored",
          "traceback": [
            "\u001b[0;31m---------------------------------------------------------------------------\u001b[0m",
            "\u001b[0;31mKeyboardInterrupt\u001b[0m                         Traceback (most recent call last)",
            "\u001b[0;32m<ipython-input-122-c91617b1961d>\u001b[0m in \u001b[0;36m<module>\u001b[0;34m()\u001b[0m\n\u001b[0;32m----> 1\u001b[0;31m \u001b[0mBlue19\u001b[0m\u001b[0;34m.\u001b[0m\u001b[0mto_csv\u001b[0m\u001b[0;34m(\u001b[0m\u001b[0;34m'Blue_19.csv'\u001b[0m\u001b[0;34m)\u001b[0m\u001b[0;34m\u001b[0m\u001b[0;34m\u001b[0m\u001b[0m\n\u001b[0m",
            "\u001b[0;32m/usr/local/lib/python3.6/dist-packages/pandas/core/generic.py\u001b[0m in \u001b[0;36mto_csv\u001b[0;34m(self, path_or_buf, sep, na_rep, float_format, columns, header, index, index_label, mode, encoding, compression, quoting, quotechar, line_terminator, chunksize, date_format, doublequote, escapechar, decimal, errors)\u001b[0m\n\u001b[1;32m   3168\u001b[0m             \u001b[0mdecimal\u001b[0m\u001b[0;34m=\u001b[0m\u001b[0mdecimal\u001b[0m\u001b[0;34m,\u001b[0m\u001b[0;34m\u001b[0m\u001b[0;34m\u001b[0m\u001b[0m\n\u001b[1;32m   3169\u001b[0m         )\n\u001b[0;32m-> 3170\u001b[0;31m         \u001b[0mformatter\u001b[0m\u001b[0;34m.\u001b[0m\u001b[0msave\u001b[0m\u001b[0;34m(\u001b[0m\u001b[0;34m)\u001b[0m\u001b[0;34m\u001b[0m\u001b[0;34m\u001b[0m\u001b[0m\n\u001b[0m\u001b[1;32m   3171\u001b[0m \u001b[0;34m\u001b[0m\u001b[0m\n\u001b[1;32m   3172\u001b[0m         \u001b[0;32mif\u001b[0m \u001b[0mpath_or_buf\u001b[0m \u001b[0;32mis\u001b[0m \u001b[0;32mNone\u001b[0m\u001b[0;34m:\u001b[0m\u001b[0;34m\u001b[0m\u001b[0;34m\u001b[0m\u001b[0m\n",
            "\u001b[0;32m/usr/local/lib/python3.6/dist-packages/pandas/io/formats/csvs.py\u001b[0m in \u001b[0;36msave\u001b[0;34m(self)\u001b[0m\n\u001b[1;32m    204\u001b[0m             )\n\u001b[1;32m    205\u001b[0m \u001b[0;34m\u001b[0m\u001b[0m\n\u001b[0;32m--> 206\u001b[0;31m             \u001b[0mself\u001b[0m\u001b[0;34m.\u001b[0m\u001b[0m_save\u001b[0m\u001b[0;34m(\u001b[0m\u001b[0;34m)\u001b[0m\u001b[0;34m\u001b[0m\u001b[0;34m\u001b[0m\u001b[0m\n\u001b[0m\u001b[1;32m    207\u001b[0m \u001b[0;34m\u001b[0m\u001b[0m\n\u001b[1;32m    208\u001b[0m         \u001b[0;32mfinally\u001b[0m\u001b[0;34m:\u001b[0m\u001b[0;34m\u001b[0m\u001b[0;34m\u001b[0m\u001b[0m\n",
            "\u001b[0;32m/usr/local/lib/python3.6/dist-packages/pandas/io/formats/csvs.py\u001b[0m in \u001b[0;36m_save\u001b[0;34m(self)\u001b[0m\n\u001b[1;32m    326\u001b[0m                 \u001b[0;32mbreak\u001b[0m\u001b[0;34m\u001b[0m\u001b[0;34m\u001b[0m\u001b[0m\n\u001b[1;32m    327\u001b[0m \u001b[0;34m\u001b[0m\u001b[0m\n\u001b[0;32m--> 328\u001b[0;31m             \u001b[0mself\u001b[0m\u001b[0;34m.\u001b[0m\u001b[0m_save_chunk\u001b[0m\u001b[0;34m(\u001b[0m\u001b[0mstart_i\u001b[0m\u001b[0;34m,\u001b[0m \u001b[0mend_i\u001b[0m\u001b[0;34m)\u001b[0m\u001b[0;34m\u001b[0m\u001b[0;34m\u001b[0m\u001b[0m\n\u001b[0m\u001b[1;32m    329\u001b[0m \u001b[0;34m\u001b[0m\u001b[0m\n\u001b[1;32m    330\u001b[0m     \u001b[0;32mdef\u001b[0m \u001b[0m_save_chunk\u001b[0m\u001b[0;34m(\u001b[0m\u001b[0mself\u001b[0m\u001b[0;34m,\u001b[0m \u001b[0mstart_i\u001b[0m\u001b[0;34m:\u001b[0m \u001b[0mint\u001b[0m\u001b[0;34m,\u001b[0m \u001b[0mend_i\u001b[0m\u001b[0;34m:\u001b[0m \u001b[0mint\u001b[0m\u001b[0;34m)\u001b[0m \u001b[0;34m->\u001b[0m \u001b[0;32mNone\u001b[0m\u001b[0;34m:\u001b[0m\u001b[0;34m\u001b[0m\u001b[0;34m\u001b[0m\u001b[0m\n",
            "\u001b[0;32m/usr/local/lib/python3.6/dist-packages/pandas/io/formats/csvs.py\u001b[0m in \u001b[0;36m_save_chunk\u001b[0;34m(self, start_i, end_i)\u001b[0m\n\u001b[1;32m    344\u001b[0m                 \u001b[0mdecimal\u001b[0m\u001b[0;34m=\u001b[0m\u001b[0mself\u001b[0m\u001b[0;34m.\u001b[0m\u001b[0mdecimal\u001b[0m\u001b[0;34m,\u001b[0m\u001b[0;34m\u001b[0m\u001b[0;34m\u001b[0m\u001b[0m\n\u001b[1;32m    345\u001b[0m                 \u001b[0mdate_format\u001b[0m\u001b[0;34m=\u001b[0m\u001b[0mself\u001b[0m\u001b[0;34m.\u001b[0m\u001b[0mdate_format\u001b[0m\u001b[0;34m,\u001b[0m\u001b[0;34m\u001b[0m\u001b[0;34m\u001b[0m\u001b[0m\n\u001b[0;32m--> 346\u001b[0;31m                 \u001b[0mquoting\u001b[0m\u001b[0;34m=\u001b[0m\u001b[0mself\u001b[0m\u001b[0;34m.\u001b[0m\u001b[0mquoting\u001b[0m\u001b[0;34m,\u001b[0m\u001b[0;34m\u001b[0m\u001b[0;34m\u001b[0m\u001b[0m\n\u001b[0m\u001b[1;32m    347\u001b[0m             )\n\u001b[1;32m    348\u001b[0m \u001b[0;34m\u001b[0m\u001b[0m\n",
            "\u001b[0;32m/usr/local/lib/python3.6/dist-packages/pandas/core/internals/blocks.py\u001b[0m in \u001b[0;36mto_native_types\u001b[0;34m(self, na_rep, date_format, **kwargs)\u001b[0m\n\u001b[1;32m   2125\u001b[0m \u001b[0;34m\u001b[0m\u001b[0m\n\u001b[1;32m   2126\u001b[0m         result = dta._format_native_types(\n\u001b[0;32m-> 2127\u001b[0;31m             \u001b[0mna_rep\u001b[0m\u001b[0;34m=\u001b[0m\u001b[0mna_rep\u001b[0m\u001b[0;34m,\u001b[0m \u001b[0mdate_format\u001b[0m\u001b[0;34m=\u001b[0m\u001b[0mdate_format\u001b[0m\u001b[0;34m,\u001b[0m \u001b[0;34m**\u001b[0m\u001b[0mkwargs\u001b[0m\u001b[0;34m\u001b[0m\u001b[0;34m\u001b[0m\u001b[0m\n\u001b[0m\u001b[1;32m   2128\u001b[0m         )\n\u001b[1;32m   2129\u001b[0m         \u001b[0;32mreturn\u001b[0m \u001b[0mnp\u001b[0m\u001b[0;34m.\u001b[0m\u001b[0matleast_2d\u001b[0m\u001b[0;34m(\u001b[0m\u001b[0mresult\u001b[0m\u001b[0;34m)\u001b[0m\u001b[0;34m\u001b[0m\u001b[0;34m\u001b[0m\u001b[0m\n",
            "\u001b[0;32m/usr/local/lib/python3.6/dist-packages/pandas/core/arrays/datetimes.py\u001b[0m in \u001b[0;36m_format_native_types\u001b[0;34m(self, na_rep, date_format, **kwargs)\u001b[0m\n\u001b[1;32m    608\u001b[0m \u001b[0;34m\u001b[0m\u001b[0m\n\u001b[1;32m    609\u001b[0m         return tslib.format_array_from_datetime(\n\u001b[0;32m--> 610\u001b[0;31m             \u001b[0mself\u001b[0m\u001b[0;34m.\u001b[0m\u001b[0masi8\u001b[0m\u001b[0;34m.\u001b[0m\u001b[0mravel\u001b[0m\u001b[0;34m(\u001b[0m\u001b[0;34m)\u001b[0m\u001b[0;34m,\u001b[0m \u001b[0mtz\u001b[0m\u001b[0;34m=\u001b[0m\u001b[0mself\u001b[0m\u001b[0;34m.\u001b[0m\u001b[0mtz\u001b[0m\u001b[0;34m,\u001b[0m \u001b[0mformat\u001b[0m\u001b[0;34m=\u001b[0m\u001b[0mfmt\u001b[0m\u001b[0;34m,\u001b[0m \u001b[0mna_rep\u001b[0m\u001b[0;34m=\u001b[0m\u001b[0mna_rep\u001b[0m\u001b[0;34m\u001b[0m\u001b[0;34m\u001b[0m\u001b[0m\n\u001b[0m\u001b[1;32m    611\u001b[0m         ).reshape(self.shape)\n\u001b[1;32m    612\u001b[0m \u001b[0;34m\u001b[0m\u001b[0m\n",
            "\u001b[0;32mpandas/_libs/tslib.pyx\u001b[0m in \u001b[0;36mpandas._libs.tslib.format_array_from_datetime\u001b[0;34m()\u001b[0m\n",
            "\u001b[0;31mKeyboardInterrupt\u001b[0m: "
          ]
        }
      ]
    }
  ]
}